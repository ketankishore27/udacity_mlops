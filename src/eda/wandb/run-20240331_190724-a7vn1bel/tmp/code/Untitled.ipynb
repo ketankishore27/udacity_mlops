{
 "cells": [
  {
   "cell_type": "code",
   "execution_count": 1,
   "id": "9aedfa06-8f82-4acc-9a17-b7ecdb241c93",
   "metadata": {},
   "outputs": [
    {
     "name": "stderr",
     "output_type": "stream",
     "text": [
      "\u001b[34m\u001b[1mwandb\u001b[0m: Currently logged in as: \u001b[33mketankishore28\u001b[0m. Use \u001b[1m`wandb login --relogin`\u001b[0m to force relogin\n"
     ]
    },
    {
     "data": {
      "text/html": [
       "wandb version 0.16.5 is available!  To upgrade, please run:\n",
       " $ pip install wandb --upgrade"
      ],
      "text/plain": [
       "<IPython.core.display.HTML object>"
      ]
     },
     "metadata": {},
     "output_type": "display_data"
    },
    {
     "data": {
      "text/html": [
       "Tracking run with wandb version 0.16.0"
      ],
      "text/plain": [
       "<IPython.core.display.HTML object>"
      ]
     },
     "metadata": {},
     "output_type": "display_data"
    },
    {
     "data": {
      "text/html": [
       "Run data is saved locally in <code>/Users/A118390615/Desktop/udacity/udacity_mlops/src/eda/wandb/run-20240331_174349-4lp033td</code>"
      ],
      "text/plain": [
       "<IPython.core.display.HTML object>"
      ]
     },
     "metadata": {},
     "output_type": "display_data"
    },
    {
     "data": {
      "text/html": [
       "Syncing run <strong><a href='https://wandb.ai/ketankishore28/NYC_AirBNB/runs/4lp033td' target=\"_blank\">expert-jazz-11</a></strong> to <a href='https://wandb.ai/ketankishore28/NYC_AirBNB' target=\"_blank\">Weights & Biases</a> (<a href='https://wandb.me/run' target=\"_blank\">docs</a>)<br/>"
      ],
      "text/plain": [
       "<IPython.core.display.HTML object>"
      ]
     },
     "metadata": {},
     "output_type": "display_data"
    },
    {
     "data": {
      "text/html": [
       " View project at <a href='https://wandb.ai/ketankishore28/NYC_AirBNB' target=\"_blank\">https://wandb.ai/ketankishore28/NYC_AirBNB</a>"
      ],
      "text/plain": [
       "<IPython.core.display.HTML object>"
      ]
     },
     "metadata": {},
     "output_type": "display_data"
    },
    {
     "data": {
      "text/html": [
       " View run at <a href='https://wandb.ai/ketankishore28/NYC_AirBNB/runs/4lp033td' target=\"_blank\">https://wandb.ai/ketankishore28/NYC_AirBNB/runs/4lp033td</a>"
      ],
      "text/plain": [
       "<IPython.core.display.HTML object>"
      ]
     },
     "metadata": {},
     "output_type": "display_data"
    }
   ],
   "source": [
    "import wandb\n",
    "import pandas as pd\n",
    "\n",
    "run = wandb.init(project=\"nyc_airbnb\", group=\"eda\", save_code=True)\n",
    "local_path = wandb.use_artifact(\"sample1.csv:latest\").file()\n",
    "df = pd.read_csv(local_path)"
   ]
  },
  {
   "cell_type": "code",
   "execution_count": 7,
   "id": "6498fce1-e3ce-40c2-8d0e-564dba103953",
   "metadata": {},
   "outputs": [
    {
     "name": "stderr",
     "output_type": "stream",
     "text": [
      "Summarize dataset: 100%|████████████████████████████████████████████████████████████████████████████████████████████████████████████████████████████| 126/126 [00:07<00:00, 17.57it/s, Completed]\n",
      "Generate report structure: 100%|███████████████████████████████████████████████████████████████████████████████████████████████████████████████████████████████████| 1/1 [00:03<00:00,  3.86s/it]\n",
      "Render widgets:   0%|                                                                                                                                                      | 0/1 [00:00<?, ?it/s]IOPub message rate exceeded.\n",
      "The Jupyter server will temporarily stop sending output\n",
      "to the client in order to avoid crashing it.\n",
      "To change this limit, set the config variable\n",
      "`--ServerApp.iopub_msg_rate_limit`.\n",
      "\n",
      "Current values:\n",
      "ServerApp.iopub_msg_rate_limit=1000.0 (msgs/sec)\n",
      "ServerApp.rate_limit_window=3.0 (secs)\n",
      "\n",
      "IOPub message rate exceeded.\n",
      "The Jupyter server will temporarily stop sending output\n",
      "to the client in order to avoid crashing it.\n",
      "To change this limit, set the config variable\n",
      "`--ServerApp.iopub_msg_rate_limit`.\n",
      "\n",
      "Current values:\n",
      "ServerApp.iopub_msg_rate_limit=1000.0 (msgs/sec)\n",
      "ServerApp.rate_limit_window=3.0 (secs)\n",
      "\n"
     ]
    }
   ],
   "source": [
    "from ydata_profiling import ProfileReport\n",
    "\n",
    "profile = ProfileReport(df)\n",
    "profile.to_widgets()"
   ]
  },
  {
   "cell_type": "code",
   "execution_count": 6,
   "id": "2db75c73-34dd-4773-b65d-3eec86536eac",
   "metadata": {},
   "outputs": [
    {
     "name": "stdout",
     "output_type": "stream",
     "text": [
      "Collecting ipywidgets\n",
      "  Downloading ipywidgets-8.1.2-py3-none-any.whl.metadata (2.4 kB)\n",
      "Requirement already satisfied: comm>=0.1.3 in /Users/A118390615/opt/anaconda3/envs/mlflow-bb7872b6fb54fb154dfc004281ace32b7bf42064/lib/python3.10/site-packages (from ipywidgets) (0.2.2)\n",
      "Requirement already satisfied: ipython>=6.1.0 in /Users/A118390615/opt/anaconda3/envs/mlflow-bb7872b6fb54fb154dfc004281ace32b7bf42064/lib/python3.10/site-packages (from ipywidgets) (8.22.2)\n",
      "Requirement already satisfied: traitlets>=4.3.1 in /Users/A118390615/opt/anaconda3/envs/mlflow-bb7872b6fb54fb154dfc004281ace32b7bf42064/lib/python3.10/site-packages (from ipywidgets) (5.14.2)\n",
      "Collecting widgetsnbextension~=4.0.10 (from ipywidgets)\n",
      "  Downloading widgetsnbextension-4.0.10-py3-none-any.whl.metadata (1.6 kB)\n",
      "Collecting jupyterlab-widgets~=3.0.10 (from ipywidgets)\n",
      "  Downloading jupyterlab_widgets-3.0.10-py3-none-any.whl.metadata (4.1 kB)\n",
      "Requirement already satisfied: decorator in /Users/A118390615/opt/anaconda3/envs/mlflow-bb7872b6fb54fb154dfc004281ace32b7bf42064/lib/python3.10/site-packages (from ipython>=6.1.0->ipywidgets) (5.1.1)\n",
      "Requirement already satisfied: jedi>=0.16 in /Users/A118390615/opt/anaconda3/envs/mlflow-bb7872b6fb54fb154dfc004281ace32b7bf42064/lib/python3.10/site-packages (from ipython>=6.1.0->ipywidgets) (0.19.1)\n",
      "Requirement already satisfied: matplotlib-inline in /Users/A118390615/opt/anaconda3/envs/mlflow-bb7872b6fb54fb154dfc004281ace32b7bf42064/lib/python3.10/site-packages (from ipython>=6.1.0->ipywidgets) (0.1.6)\n",
      "Requirement already satisfied: prompt-toolkit<3.1.0,>=3.0.41 in /Users/A118390615/opt/anaconda3/envs/mlflow-bb7872b6fb54fb154dfc004281ace32b7bf42064/lib/python3.10/site-packages (from ipython>=6.1.0->ipywidgets) (3.0.42)\n",
      "Requirement already satisfied: pygments>=2.4.0 in /Users/A118390615/opt/anaconda3/envs/mlflow-bb7872b6fb54fb154dfc004281ace32b7bf42064/lib/python3.10/site-packages (from ipython>=6.1.0->ipywidgets) (2.17.2)\n",
      "Requirement already satisfied: stack-data in /Users/A118390615/opt/anaconda3/envs/mlflow-bb7872b6fb54fb154dfc004281ace32b7bf42064/lib/python3.10/site-packages (from ipython>=6.1.0->ipywidgets) (0.6.2)\n",
      "Requirement already satisfied: exceptiongroup in /Users/A118390615/opt/anaconda3/envs/mlflow-bb7872b6fb54fb154dfc004281ace32b7bf42064/lib/python3.10/site-packages (from ipython>=6.1.0->ipywidgets) (1.2.0)\n",
      "Requirement already satisfied: pexpect>4.3 in /Users/A118390615/opt/anaconda3/envs/mlflow-bb7872b6fb54fb154dfc004281ace32b7bf42064/lib/python3.10/site-packages (from ipython>=6.1.0->ipywidgets) (4.9.0)\n",
      "Requirement already satisfied: parso<0.9.0,>=0.8.3 in /Users/A118390615/opt/anaconda3/envs/mlflow-bb7872b6fb54fb154dfc004281ace32b7bf42064/lib/python3.10/site-packages (from jedi>=0.16->ipython>=6.1.0->ipywidgets) (0.8.3)\n",
      "Requirement already satisfied: ptyprocess>=0.5 in /Users/A118390615/opt/anaconda3/envs/mlflow-bb7872b6fb54fb154dfc004281ace32b7bf42064/lib/python3.10/site-packages (from pexpect>4.3->ipython>=6.1.0->ipywidgets) (0.7.0)\n",
      "Requirement already satisfied: wcwidth in /Users/A118390615/opt/anaconda3/envs/mlflow-bb7872b6fb54fb154dfc004281ace32b7bf42064/lib/python3.10/site-packages (from prompt-toolkit<3.1.0,>=3.0.41->ipython>=6.1.0->ipywidgets) (0.2.13)\n",
      "Requirement already satisfied: executing>=1.2.0 in /Users/A118390615/opt/anaconda3/envs/mlflow-bb7872b6fb54fb154dfc004281ace32b7bf42064/lib/python3.10/site-packages (from stack-data->ipython>=6.1.0->ipywidgets) (2.0.1)\n",
      "Requirement already satisfied: asttokens>=2.1.0 in /Users/A118390615/opt/anaconda3/envs/mlflow-bb7872b6fb54fb154dfc004281ace32b7bf42064/lib/python3.10/site-packages (from stack-data->ipython>=6.1.0->ipywidgets) (2.4.1)\n",
      "Requirement already satisfied: pure-eval in /Users/A118390615/opt/anaconda3/envs/mlflow-bb7872b6fb54fb154dfc004281ace32b7bf42064/lib/python3.10/site-packages (from stack-data->ipython>=6.1.0->ipywidgets) (0.2.2)\n",
      "Requirement already satisfied: six>=1.12.0 in /Users/A118390615/opt/anaconda3/envs/mlflow-bb7872b6fb54fb154dfc004281ace32b7bf42064/lib/python3.10/site-packages (from asttokens>=2.1.0->stack-data->ipython>=6.1.0->ipywidgets) (1.16.0)\n",
      "Downloading ipywidgets-8.1.2-py3-none-any.whl (139 kB)\n",
      "\u001b[2K   \u001b[90m━━━━━━━━━━━━━━━━━━━━━━━━━━━━━━━━━━━━━━━━\u001b[0m \u001b[32m139.4/139.4 kB\u001b[0m \u001b[31m3.3 MB/s\u001b[0m eta \u001b[36m0:00:00\u001b[0ma \u001b[36m0:00:01\u001b[0m\n",
      "\u001b[?25hDownloading jupyterlab_widgets-3.0.10-py3-none-any.whl (215 kB)\n",
      "\u001b[2K   \u001b[90m━━━━━━━━━━━━━━━━━━━━━━━━━━━━━━━━━━━━━━━━\u001b[0m \u001b[32m215.0/215.0 kB\u001b[0m \u001b[31m6.9 MB/s\u001b[0m eta \u001b[36m0:00:00\u001b[0m\n",
      "\u001b[?25hDownloading widgetsnbextension-4.0.10-py3-none-any.whl (2.3 MB)\n",
      "\u001b[2K   \u001b[90m━━━━━━━━━━━━━━━━━━━━━━━━━━━━━━━━━━━━━━━━\u001b[0m \u001b[32m2.3/2.3 MB\u001b[0m \u001b[31m9.3 MB/s\u001b[0m eta \u001b[36m0:00:00\u001b[0m00:01\u001b[0m00:01\u001b[0mm\n",
      "\u001b[?25hInstalling collected packages: widgetsnbextension, jupyterlab-widgets, ipywidgets\n",
      "Successfully installed ipywidgets-8.1.2 jupyterlab-widgets-3.0.10 widgetsnbextension-4.0.10\n"
     ]
    }
   ],
   "source": [
    "!pip install ipywidgets"
   ]
  },
  {
   "cell_type": "code",
   "execution_count": 3,
   "id": "24dbbdd7-704e-4a9f-b706-e106cee37720",
   "metadata": {},
   "outputs": [
    {
     "name": "stdout",
     "output_type": "stream",
     "text": [
      "Requirement already satisfied: ydata_profiling in /Users/A118390615/opt/anaconda3/envs/mlflow-bb7872b6fb54fb154dfc004281ace32b7bf42064/lib/python3.10/site-packages (4.6.0)\n",
      "Requirement already satisfied: scipy<1.12,>=1.4.1 in /Users/A118390615/opt/anaconda3/envs/mlflow-bb7872b6fb54fb154dfc004281ace32b7bf42064/lib/python3.10/site-packages (from ydata_profiling) (1.11.4)\n",
      "Requirement already satisfied: pandas!=1.4.0,<2.1,>1.1 in /Users/A118390615/opt/anaconda3/envs/mlflow-bb7872b6fb54fb154dfc004281ace32b7bf42064/lib/python3.10/site-packages (from ydata_profiling) (2.0.3)\n",
      "Requirement already satisfied: matplotlib<=3.7.3,>=3.2 in /Users/A118390615/opt/anaconda3/envs/mlflow-bb7872b6fb54fb154dfc004281ace32b7bf42064/lib/python3.10/site-packages (from ydata_profiling) (3.7.3)\n",
      "Requirement already satisfied: pydantic<2,>=1.8.1 in /Users/A118390615/opt/anaconda3/envs/mlflow-bb7872b6fb54fb154dfc004281ace32b7bf42064/lib/python3.10/site-packages (from ydata_profiling) (1.10.14)\n",
      "Requirement already satisfied: PyYAML<6.1,>=5.0.0 in /Users/A118390615/opt/anaconda3/envs/mlflow-bb7872b6fb54fb154dfc004281ace32b7bf42064/lib/python3.10/site-packages (from ydata_profiling) (6.0.1)\n",
      "Requirement already satisfied: jinja2<3.2,>=2.11.1 in /Users/A118390615/opt/anaconda3/envs/mlflow-bb7872b6fb54fb154dfc004281ace32b7bf42064/lib/python3.10/site-packages (from ydata_profiling) (3.1.3)\n",
      "Requirement already satisfied: visions==0.7.5 in /Users/A118390615/opt/anaconda3/envs/mlflow-bb7872b6fb54fb154dfc004281ace32b7bf42064/lib/python3.10/site-packages (from visions[type_image_path]==0.7.5->ydata_profiling) (0.7.5)\n",
      "Requirement already satisfied: numpy<1.26,>=1.16.0 in /Users/A118390615/opt/anaconda3/envs/mlflow-bb7872b6fb54fb154dfc004281ace32b7bf42064/lib/python3.10/site-packages (from ydata_profiling) (1.25.2)\n",
      "Requirement already satisfied: htmlmin==0.1.12 in /Users/A118390615/opt/anaconda3/envs/mlflow-bb7872b6fb54fb154dfc004281ace32b7bf42064/lib/python3.10/site-packages (from ydata_profiling) (0.1.12)\n",
      "Requirement already satisfied: phik<0.13,>=0.11.1 in /Users/A118390615/opt/anaconda3/envs/mlflow-bb7872b6fb54fb154dfc004281ace32b7bf42064/lib/python3.10/site-packages (from ydata_profiling) (0.12.4)\n",
      "Requirement already satisfied: requests<3,>=2.24.0 in /Users/A118390615/opt/anaconda3/envs/mlflow-bb7872b6fb54fb154dfc004281ace32b7bf42064/lib/python3.10/site-packages (from ydata_profiling) (2.31.0)\n",
      "Requirement already satisfied: tqdm<5,>=4.48.2 in /Users/A118390615/opt/anaconda3/envs/mlflow-bb7872b6fb54fb154dfc004281ace32b7bf42064/lib/python3.10/site-packages (from ydata_profiling) (4.66.2)\n",
      "Requirement already satisfied: seaborn<0.13,>=0.10.1 in /Users/A118390615/opt/anaconda3/envs/mlflow-bb7872b6fb54fb154dfc004281ace32b7bf42064/lib/python3.10/site-packages (from ydata_profiling) (0.12.2)\n",
      "Requirement already satisfied: multimethod<2,>=1.4 in /Users/A118390615/opt/anaconda3/envs/mlflow-bb7872b6fb54fb154dfc004281ace32b7bf42064/lib/python3.10/site-packages (from ydata_profiling) (1.11.2)\n",
      "Requirement already satisfied: statsmodels<1,>=0.13.2 in /Users/A118390615/opt/anaconda3/envs/mlflow-bb7872b6fb54fb154dfc004281ace32b7bf42064/lib/python3.10/site-packages (from ydata_profiling) (0.14.1)\n",
      "Requirement already satisfied: typeguard<5,>=4.1.2 in /Users/A118390615/opt/anaconda3/envs/mlflow-bb7872b6fb54fb154dfc004281ace32b7bf42064/lib/python3.10/site-packages (from ydata_profiling) (4.2.1)\n",
      "Requirement already satisfied: imagehash==4.3.1 in /Users/A118390615/opt/anaconda3/envs/mlflow-bb7872b6fb54fb154dfc004281ace32b7bf42064/lib/python3.10/site-packages (from ydata_profiling) (4.3.1)\n",
      "Requirement already satisfied: wordcloud>=1.9.1 in /Users/A118390615/opt/anaconda3/envs/mlflow-bb7872b6fb54fb154dfc004281ace32b7bf42064/lib/python3.10/site-packages (from ydata_profiling) (1.9.3)\n",
      "Requirement already satisfied: dacite>=1.8 in /Users/A118390615/opt/anaconda3/envs/mlflow-bb7872b6fb54fb154dfc004281ace32b7bf42064/lib/python3.10/site-packages (from ydata_profiling) (1.8.1)\n",
      "Requirement already satisfied: numba<0.59.0,>=0.56.0 in /Users/A118390615/opt/anaconda3/envs/mlflow-bb7872b6fb54fb154dfc004281ace32b7bf42064/lib/python3.10/site-packages (from ydata_profiling) (0.58.1)\n",
      "Requirement already satisfied: PyWavelets in /Users/A118390615/opt/anaconda3/envs/mlflow-bb7872b6fb54fb154dfc004281ace32b7bf42064/lib/python3.10/site-packages (from imagehash==4.3.1->ydata_profiling) (1.5.0)\n",
      "Requirement already satisfied: pillow in /Users/A118390615/opt/anaconda3/envs/mlflow-bb7872b6fb54fb154dfc004281ace32b7bf42064/lib/python3.10/site-packages (from imagehash==4.3.1->ydata_profiling) (10.2.0)\n",
      "Requirement already satisfied: attrs>=19.3.0 in /Users/A118390615/opt/anaconda3/envs/mlflow-bb7872b6fb54fb154dfc004281ace32b7bf42064/lib/python3.10/site-packages (from visions==0.7.5->visions[type_image_path]==0.7.5->ydata_profiling) (23.2.0)\n",
      "Requirement already satisfied: networkx>=2.4 in /Users/A118390615/opt/anaconda3/envs/mlflow-bb7872b6fb54fb154dfc004281ace32b7bf42064/lib/python3.10/site-packages (from visions==0.7.5->visions[type_image_path]==0.7.5->ydata_profiling) (3.2.1)\n",
      "Requirement already satisfied: tangled-up-in-unicode>=0.0.4 in /Users/A118390615/opt/anaconda3/envs/mlflow-bb7872b6fb54fb154dfc004281ace32b7bf42064/lib/python3.10/site-packages (from visions==0.7.5->visions[type_image_path]==0.7.5->ydata_profiling) (0.2.0)\n",
      "\u001b[33mWARNING: visions 0.7.5 does not provide the extra 'type-image-path'\u001b[0m\u001b[33m\n",
      "\u001b[0mRequirement already satisfied: MarkupSafe>=2.0 in /Users/A118390615/opt/anaconda3/envs/mlflow-bb7872b6fb54fb154dfc004281ace32b7bf42064/lib/python3.10/site-packages (from jinja2<3.2,>=2.11.1->ydata_profiling) (2.1.5)\n",
      "Requirement already satisfied: contourpy>=1.0.1 in /Users/A118390615/opt/anaconda3/envs/mlflow-bb7872b6fb54fb154dfc004281ace32b7bf42064/lib/python3.10/site-packages (from matplotlib<=3.7.3,>=3.2->ydata_profiling) (1.2.0)\n",
      "Requirement already satisfied: cycler>=0.10 in /Users/A118390615/opt/anaconda3/envs/mlflow-bb7872b6fb54fb154dfc004281ace32b7bf42064/lib/python3.10/site-packages (from matplotlib<=3.7.3,>=3.2->ydata_profiling) (0.12.1)\n",
      "Requirement already satisfied: fonttools>=4.22.0 in /Users/A118390615/opt/anaconda3/envs/mlflow-bb7872b6fb54fb154dfc004281ace32b7bf42064/lib/python3.10/site-packages (from matplotlib<=3.7.3,>=3.2->ydata_profiling) (4.50.0)\n",
      "Requirement already satisfied: kiwisolver>=1.0.1 in /Users/A118390615/opt/anaconda3/envs/mlflow-bb7872b6fb54fb154dfc004281ace32b7bf42064/lib/python3.10/site-packages (from matplotlib<=3.7.3,>=3.2->ydata_profiling) (1.4.5)\n",
      "Requirement already satisfied: packaging>=20.0 in /Users/A118390615/opt/anaconda3/envs/mlflow-bb7872b6fb54fb154dfc004281ace32b7bf42064/lib/python3.10/site-packages (from matplotlib<=3.7.3,>=3.2->ydata_profiling) (23.2)\n",
      "Requirement already satisfied: pyparsing>=2.3.1 in /Users/A118390615/opt/anaconda3/envs/mlflow-bb7872b6fb54fb154dfc004281ace32b7bf42064/lib/python3.10/site-packages (from matplotlib<=3.7.3,>=3.2->ydata_profiling) (3.1.2)\n",
      "Requirement already satisfied: python-dateutil>=2.7 in /Users/A118390615/opt/anaconda3/envs/mlflow-bb7872b6fb54fb154dfc004281ace32b7bf42064/lib/python3.10/site-packages (from matplotlib<=3.7.3,>=3.2->ydata_profiling) (2.9.0)\n",
      "Requirement already satisfied: llvmlite<0.42,>=0.41.0dev0 in /Users/A118390615/opt/anaconda3/envs/mlflow-bb7872b6fb54fb154dfc004281ace32b7bf42064/lib/python3.10/site-packages (from numba<0.59.0,>=0.56.0->ydata_profiling) (0.41.1)\n",
      "Requirement already satisfied: pytz>=2020.1 in /Users/A118390615/opt/anaconda3/envs/mlflow-bb7872b6fb54fb154dfc004281ace32b7bf42064/lib/python3.10/site-packages (from pandas!=1.4.0,<2.1,>1.1->ydata_profiling) (2023.4)\n",
      "Requirement already satisfied: tzdata>=2022.1 in /Users/A118390615/opt/anaconda3/envs/mlflow-bb7872b6fb54fb154dfc004281ace32b7bf42064/lib/python3.10/site-packages (from pandas!=1.4.0,<2.1,>1.1->ydata_profiling) (2024.1)\n",
      "Requirement already satisfied: joblib>=0.14.1 in /Users/A118390615/opt/anaconda3/envs/mlflow-bb7872b6fb54fb154dfc004281ace32b7bf42064/lib/python3.10/site-packages (from phik<0.13,>=0.11.1->ydata_profiling) (1.3.2)\n",
      "Requirement already satisfied: typing-extensions>=4.2.0 in /Users/A118390615/opt/anaconda3/envs/mlflow-bb7872b6fb54fb154dfc004281ace32b7bf42064/lib/python3.10/site-packages (from pydantic<2,>=1.8.1->ydata_profiling) (4.10.0)\n",
      "Requirement already satisfied: charset-normalizer<4,>=2 in /Users/A118390615/opt/anaconda3/envs/mlflow-bb7872b6fb54fb154dfc004281ace32b7bf42064/lib/python3.10/site-packages (from requests<3,>=2.24.0->ydata_profiling) (3.3.2)\n",
      "Requirement already satisfied: idna<4,>=2.5 in /Users/A118390615/opt/anaconda3/envs/mlflow-bb7872b6fb54fb154dfc004281ace32b7bf42064/lib/python3.10/site-packages (from requests<3,>=2.24.0->ydata_profiling) (3.6)\n",
      "Requirement already satisfied: urllib3<3,>=1.21.1 in /Users/A118390615/opt/anaconda3/envs/mlflow-bb7872b6fb54fb154dfc004281ace32b7bf42064/lib/python3.10/site-packages (from requests<3,>=2.24.0->ydata_profiling) (2.2.1)\n",
      "Requirement already satisfied: certifi>=2017.4.17 in /Users/A118390615/opt/anaconda3/envs/mlflow-bb7872b6fb54fb154dfc004281ace32b7bf42064/lib/python3.10/site-packages (from requests<3,>=2.24.0->ydata_profiling) (2024.2.2)\n",
      "Requirement already satisfied: patsy>=0.5.4 in /Users/A118390615/opt/anaconda3/envs/mlflow-bb7872b6fb54fb154dfc004281ace32b7bf42064/lib/python3.10/site-packages (from statsmodels<1,>=0.13.2->ydata_profiling) (0.5.6)\n",
      "Requirement already satisfied: six in /Users/A118390615/opt/anaconda3/envs/mlflow-bb7872b6fb54fb154dfc004281ace32b7bf42064/lib/python3.10/site-packages (from patsy>=0.5.4->statsmodels<1,>=0.13.2->ydata_profiling) (1.16.0)\n"
     ]
    }
   ],
   "source": [
    "!pip install ydata_profiling"
   ]
  },
  {
   "cell_type": "code",
   "execution_count": null,
   "id": "af5a2a42-2ecb-404f-b18d-3943b4617a32",
   "metadata": {},
   "outputs": [],
   "source": []
  }
 ],
 "metadata": {
  "kernelspec": {
   "display_name": "Python 3 (ipykernel)",
   "language": "python",
   "name": "python3"
  },
  "language_info": {
   "codemirror_mode": {
    "name": "ipython",
    "version": 3
   },
   "file_extension": ".py",
   "mimetype": "text/x-python",
   "name": "python",
   "nbconvert_exporter": "python",
   "pygments_lexer": "ipython3",
   "version": "3.10.14"
  }
 },
 "nbformat": 4,
 "nbformat_minor": 5
}
