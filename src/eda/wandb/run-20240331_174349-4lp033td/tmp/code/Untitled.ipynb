{
 "cells": [
  {
   "cell_type": "code",
   "execution_count": 1,
   "id": "9aedfa06-8f82-4acc-9a17-b7ecdb241c93",
   "metadata": {},
   "outputs": [
    {
     "name": "stderr",
     "output_type": "stream",
     "text": [
      "\u001b[34m\u001b[1mwandb\u001b[0m: Currently logged in as: \u001b[33mketankishore28\u001b[0m. Use \u001b[1m`wandb login --relogin`\u001b[0m to force relogin\n"
     ]
    },
    {
     "data": {
      "text/html": [
       "wandb version 0.16.5 is available!  To upgrade, please run:\n",
       " $ pip install wandb --upgrade"
      ],
      "text/plain": [
       "<IPython.core.display.HTML object>"
      ]
     },
     "metadata": {},
     "output_type": "display_data"
    },
    {
     "data": {
      "text/html": [
       "Tracking run with wandb version 0.16.0"
      ],
      "text/plain": [
       "<IPython.core.display.HTML object>"
      ]
     },
     "metadata": {},
     "output_type": "display_data"
    },
    {
     "data": {
      "text/html": [
       "Run data is saved locally in <code>/Users/A118390615/Desktop/udacity/udacity_mlops/src/eda/wandb/run-20240331_174349-4lp033td</code>"
      ],
      "text/plain": [
       "<IPython.core.display.HTML object>"
      ]
     },
     "metadata": {},
     "output_type": "display_data"
    },
    {
     "data": {
      "text/html": [
       "Syncing run <strong><a href='https://wandb.ai/ketankishore28/NYC_AirBNB/runs/4lp033td' target=\"_blank\">expert-jazz-11</a></strong> to <a href='https://wandb.ai/ketankishore28/NYC_AirBNB' target=\"_blank\">Weights & Biases</a> (<a href='https://wandb.me/run' target=\"_blank\">docs</a>)<br/>"
      ],
      "text/plain": [
       "<IPython.core.display.HTML object>"
      ]
     },
     "metadata": {},
     "output_type": "display_data"
    },
    {
     "data": {
      "text/html": [
       " View project at <a href='https://wandb.ai/ketankishore28/NYC_AirBNB' target=\"_blank\">https://wandb.ai/ketankishore28/NYC_AirBNB</a>"
      ],
      "text/plain": [
       "<IPython.core.display.HTML object>"
      ]
     },
     "metadata": {},
     "output_type": "display_data"
    },
    {
     "data": {
      "text/html": [
       " View run at <a href='https://wandb.ai/ketankishore28/NYC_AirBNB/runs/4lp033td' target=\"_blank\">https://wandb.ai/ketankishore28/NYC_AirBNB/runs/4lp033td</a>"
      ],
      "text/plain": [
       "<IPython.core.display.HTML object>"
      ]
     },
     "metadata": {},
     "output_type": "display_data"
    }
   ],
   "source": [
    "import wandb\n",
    "import pandas as pd\n",
    "\n",
    "run = wandb.init(project=\"nyc_airbnb\", group=\"eda\", save_code=True)\n",
    "local_path = wandb.use_artifact(\"sample1.csv:latest\").file()\n",
    "df = pd.read_csv(local_path)"
   ]
  },
  {
   "cell_type": "code",
   "execution_count": 2,
   "id": "6498fce1-e3ce-40c2-8d0e-564dba103953",
   "metadata": {},
   "outputs": [
    {
     "name": "stderr",
     "output_type": "stream",
     "text": [
      "/Users/A118390615/opt/anaconda3/envs/mlflow-bb7872b6fb54fb154dfc004281ace32b7bf42064/lib/python3.10/site-packages/tqdm/auto.py:21: TqdmWarning: IProgress not found. Please update jupyter and ipywidgets. See https://ipywidgets.readthedocs.io/en/stable/user_install.html\n",
      "  from .autonotebook import tqdm as notebook_tqdm\n",
      "/Users/A118390615/opt/anaconda3/envs/mlflow-bb7872b6fb54fb154dfc004281ace32b7bf42064/lib/python3.10/site-packages/numba/core/decorators.py:262: NumbaDeprecationWarning: numba.generated_jit is deprecated. Please see the documentation at: https://numba.readthedocs.io/en/stable/reference/deprecation.html#deprecation-of-generated-jit for more information and advice on a suitable replacement.\n",
      "  warnings.warn(msg, NumbaDeprecationWarning)\n",
      "/Users/A118390615/opt/anaconda3/envs/mlflow-bb7872b6fb54fb154dfc004281ace32b7bf42064/lib/python3.10/site-packages/visions/backends/shared/nan_handling.py:51: NumbaDeprecationWarning: The 'nopython' keyword argument was not supplied to the 'numba.jit' decorator. The implicit default value for this argument is currently False, but it will be changed to True in Numba 0.59.0. See https://numba.readthedocs.io/en/stable/reference/deprecation.html#deprecation-of-object-mode-fall-back-behaviour-when-using-jit for details.\n",
      "  def hasna(x: np.ndarray) -> bool:\n",
      "/var/folders/3y/ltn0hpbs5m128yf5kw9h5vgr0000gn/T/ipykernel_23969/2516835558.py:1: DeprecationWarning: `import pandas_profiling` is going to be deprecated by April 1st. Please use `import ydata_profiling` instead.\n",
      "  import pandas_profiling\n"
     ]
    },
    {
     "ename": "TypeCheckError",
     "evalue": "argument \"config_file\" (None) did not match any element in the union:\n  pathlib.Path: is not an instance of pathlib.Path\n  str: is not an instance of str",
     "output_type": "error",
     "traceback": [
      "\u001b[0;31m---------------------------------------------------------------------------\u001b[0m",
      "\u001b[0;31mTypeCheckError\u001b[0m                            Traceback (most recent call last)",
      "Cell \u001b[0;32mIn[2], line 3\u001b[0m\n\u001b[1;32m      1\u001b[0m \u001b[38;5;28;01mimport\u001b[39;00m \u001b[38;5;21;01mpandas_profiling\u001b[39;00m\n\u001b[0;32m----> 3\u001b[0m profile \u001b[38;5;241m=\u001b[39m \u001b[43mpandas_profiling\u001b[49m\u001b[38;5;241;43m.\u001b[39;49m\u001b[43mProfileReport\u001b[49m\u001b[43m(\u001b[49m\u001b[43mdf\u001b[49m\u001b[43m)\u001b[49m\n\u001b[1;32m      4\u001b[0m profile\u001b[38;5;241m.\u001b[39mto_widgets()\n",
      "File \u001b[0;32m~/opt/anaconda3/envs/mlflow-bb7872b6fb54fb154dfc004281ace32b7bf42064/lib/python3.10/site-packages/pandas_profiling/profile_report.py:48\u001b[0m, in \u001b[0;36mProfileReport.__init__\u001b[0;34m(self, df, minimal, explorative, sensitive, dark_mode, orange_mode, tsmode, sortby, sample, config_file, lazy, typeset, summarizer, config, **kwargs)\u001b[0m\n\u001b[1;32m     45\u001b[0m _json \u001b[38;5;241m=\u001b[39m \u001b[38;5;28;01mNone\u001b[39;00m\n\u001b[1;32m     46\u001b[0m config: Settings\n\u001b[0;32m---> 48\u001b[0m \u001b[38;5;28;01mdef\u001b[39;00m \u001b[38;5;21m__init__\u001b[39m(\n\u001b[1;32m     49\u001b[0m     \u001b[38;5;28mself\u001b[39m,\n\u001b[1;32m     50\u001b[0m     df: Optional[pd\u001b[38;5;241m.\u001b[39mDataFrame] \u001b[38;5;241m=\u001b[39m \u001b[38;5;28;01mNone\u001b[39;00m,\n\u001b[1;32m     51\u001b[0m     minimal: \u001b[38;5;28mbool\u001b[39m \u001b[38;5;241m=\u001b[39m \u001b[38;5;28;01mFalse\u001b[39;00m,\n\u001b[1;32m     52\u001b[0m     explorative: \u001b[38;5;28mbool\u001b[39m \u001b[38;5;241m=\u001b[39m \u001b[38;5;28;01mFalse\u001b[39;00m,\n\u001b[1;32m     53\u001b[0m     sensitive: \u001b[38;5;28mbool\u001b[39m \u001b[38;5;241m=\u001b[39m \u001b[38;5;28;01mFalse\u001b[39;00m,\n\u001b[1;32m     54\u001b[0m     dark_mode: \u001b[38;5;28mbool\u001b[39m \u001b[38;5;241m=\u001b[39m \u001b[38;5;28;01mFalse\u001b[39;00m,\n\u001b[1;32m     55\u001b[0m     orange_mode: \u001b[38;5;28mbool\u001b[39m \u001b[38;5;241m=\u001b[39m \u001b[38;5;28;01mFalse\u001b[39;00m,\n\u001b[1;32m     56\u001b[0m     tsmode: \u001b[38;5;28mbool\u001b[39m \u001b[38;5;241m=\u001b[39m \u001b[38;5;28;01mFalse\u001b[39;00m,\n\u001b[1;32m     57\u001b[0m     sortby: Optional[\u001b[38;5;28mstr\u001b[39m] \u001b[38;5;241m=\u001b[39m \u001b[38;5;28;01mNone\u001b[39;00m,\n\u001b[1;32m     58\u001b[0m     sample: Optional[\u001b[38;5;28mdict\u001b[39m] \u001b[38;5;241m=\u001b[39m \u001b[38;5;28;01mNone\u001b[39;00m,\n\u001b[1;32m     59\u001b[0m     config_file: Union[Path, \u001b[38;5;28mstr\u001b[39m] \u001b[38;5;241m=\u001b[39m \u001b[38;5;28;01mNone\u001b[39;00m,\n\u001b[1;32m     60\u001b[0m     lazy: \u001b[38;5;28mbool\u001b[39m \u001b[38;5;241m=\u001b[39m \u001b[38;5;28;01mTrue\u001b[39;00m,\n\u001b[1;32m     61\u001b[0m     typeset: Optional[VisionsTypeset] \u001b[38;5;241m=\u001b[39m \u001b[38;5;28;01mNone\u001b[39;00m,\n\u001b[1;32m     62\u001b[0m     summarizer: Optional[BaseSummarizer] \u001b[38;5;241m=\u001b[39m \u001b[38;5;28;01mNone\u001b[39;00m,\n\u001b[1;32m     63\u001b[0m     config: Optional[Settings] \u001b[38;5;241m=\u001b[39m \u001b[38;5;28;01mNone\u001b[39;00m,\n\u001b[1;32m     64\u001b[0m     \u001b[38;5;241m*\u001b[39m\u001b[38;5;241m*\u001b[39mkwargs,\n\u001b[1;32m     65\u001b[0m ):\n\u001b[1;32m     66\u001b[0m \u001b[38;5;250m    \u001b[39m\u001b[38;5;124;03m\"\"\"Generate a ProfileReport based on a pandas DataFrame\u001b[39;00m\n\u001b[1;32m     67\u001b[0m \n\u001b[1;32m     68\u001b[0m \u001b[38;5;124;03m    Config processing order (in case of duplicate entries, entries later in the order are retained):\u001b[39;00m\n\u001b[0;32m   (...)\u001b[0m\n\u001b[1;32m     82\u001b[0m \u001b[38;5;124;03m        **kwargs: other arguments, for valid arguments, check the default configuration file.\u001b[39;00m\n\u001b[1;32m     83\u001b[0m \u001b[38;5;124;03m    \"\"\"\u001b[39;00m\n\u001b[1;32m     85\u001b[0m     \u001b[38;5;28;01mif\u001b[39;00m df \u001b[38;5;129;01mis\u001b[39;00m \u001b[38;5;28;01mNone\u001b[39;00m \u001b[38;5;129;01mand\u001b[39;00m \u001b[38;5;129;01mnot\u001b[39;00m lazy:\n",
      "File \u001b[0;32m~/opt/anaconda3/envs/mlflow-bb7872b6fb54fb154dfc004281ace32b7bf42064/lib/python3.10/site-packages/typeguard/_functions.py:136\u001b[0m, in \u001b[0;36mcheck_argument_types\u001b[0;34m(func_name, arguments, memo)\u001b[0m\n\u001b[1;32m    133\u001b[0m         \u001b[38;5;28;01mraise\u001b[39;00m exc\n\u001b[1;32m    135\u001b[0m \u001b[38;5;28;01mtry\u001b[39;00m:\n\u001b[0;32m--> 136\u001b[0m     \u001b[43mcheck_type_internal\u001b[49m\u001b[43m(\u001b[49m\u001b[43mvalue\u001b[49m\u001b[43m,\u001b[49m\u001b[43m \u001b[49m\u001b[43mannotation\u001b[49m\u001b[43m,\u001b[49m\u001b[43m \u001b[49m\u001b[43mmemo\u001b[49m\u001b[43m)\u001b[49m\n\u001b[1;32m    137\u001b[0m \u001b[38;5;28;01mexcept\u001b[39;00m TypeCheckError \u001b[38;5;28;01mas\u001b[39;00m exc:\n\u001b[1;32m    138\u001b[0m     qualname \u001b[38;5;241m=\u001b[39m qualified_name(value, add_class_prefix\u001b[38;5;241m=\u001b[39m\u001b[38;5;28;01mTrue\u001b[39;00m)\n",
      "File \u001b[0;32m~/opt/anaconda3/envs/mlflow-bb7872b6fb54fb154dfc004281ace32b7bf42064/lib/python3.10/site-packages/typeguard/_checkers.py:779\u001b[0m, in \u001b[0;36mcheck_type_internal\u001b[0;34m(value, annotation, memo)\u001b[0m\n\u001b[1;32m    777\u001b[0m     checker \u001b[38;5;241m=\u001b[39m lookup_func(origin_type, args, extras)\n\u001b[1;32m    778\u001b[0m     \u001b[38;5;28;01mif\u001b[39;00m checker:\n\u001b[0;32m--> 779\u001b[0m         \u001b[43mchecker\u001b[49m\u001b[43m(\u001b[49m\u001b[43mvalue\u001b[49m\u001b[43m,\u001b[49m\u001b[43m \u001b[49m\u001b[43morigin_type\u001b[49m\u001b[43m,\u001b[49m\u001b[43m \u001b[49m\u001b[43margs\u001b[49m\u001b[43m,\u001b[49m\u001b[43m \u001b[49m\u001b[43mmemo\u001b[49m\u001b[43m)\u001b[49m\n\u001b[1;32m    780\u001b[0m         \u001b[38;5;28;01mreturn\u001b[39;00m\n\u001b[1;32m    782\u001b[0m \u001b[38;5;28;01mif\u001b[39;00m isclass(origin_type):\n",
      "File \u001b[0;32m~/opt/anaconda3/envs/mlflow-bb7872b6fb54fb154dfc004281ace32b7bf42064/lib/python3.10/site-packages/typeguard/_checkers.py:428\u001b[0m, in \u001b[0;36mcheck_union\u001b[0;34m(value, origin_type, args, memo)\u001b[0m\n\u001b[1;32m    426\u001b[0m \u001b[38;5;28;01mfinally\u001b[39;00m:\n\u001b[1;32m    427\u001b[0m     \u001b[38;5;28;01mdel\u001b[39;00m errors  \u001b[38;5;66;03m# avoid creating ref cycle\u001b[39;00m\n\u001b[0;32m--> 428\u001b[0m \u001b[38;5;28;01mraise\u001b[39;00m TypeCheckError(\u001b[38;5;124mf\u001b[39m\u001b[38;5;124m\"\u001b[39m\u001b[38;5;124mdid not match any element in the union:\u001b[39m\u001b[38;5;130;01m\\n\u001b[39;00m\u001b[38;5;132;01m{\u001b[39;00mformatted_errors\u001b[38;5;132;01m}\u001b[39;00m\u001b[38;5;124m\"\u001b[39m)\n",
      "\u001b[0;31mTypeCheckError\u001b[0m: argument \"config_file\" (None) did not match any element in the union:\n  pathlib.Path: is not an instance of pathlib.Path\n  str: is not an instance of str"
     ]
    }
   ],
   "source": [
    "import pandas_profiling\n",
    "\n",
    "profile = pandas_profiling.ProfileReport(df)\n",
    "profile.to_widgets()"
   ]
  },
  {
   "cell_type": "code",
   "execution_count": null,
   "id": "2db75c73-34dd-4773-b65d-3eec86536eac",
   "metadata": {},
   "outputs": [],
   "source": []
  },
  {
   "cell_type": "code",
   "execution_count": 3,
   "id": "24dbbdd7-704e-4a9f-b706-e106cee37720",
   "metadata": {},
   "outputs": [
    {
     "name": "stdout",
     "output_type": "stream",
     "text": [
      "Requirement already satisfied: ydata_profiling in /Users/A118390615/opt/anaconda3/envs/mlflow-bb7872b6fb54fb154dfc004281ace32b7bf42064/lib/python3.10/site-packages (4.6.0)\n",
      "Requirement already satisfied: scipy<1.12,>=1.4.1 in /Users/A118390615/opt/anaconda3/envs/mlflow-bb7872b6fb54fb154dfc004281ace32b7bf42064/lib/python3.10/site-packages (from ydata_profiling) (1.11.4)\n",
      "Requirement already satisfied: pandas!=1.4.0,<2.1,>1.1 in /Users/A118390615/opt/anaconda3/envs/mlflow-bb7872b6fb54fb154dfc004281ace32b7bf42064/lib/python3.10/site-packages (from ydata_profiling) (2.0.3)\n",
      "Requirement already satisfied: matplotlib<=3.7.3,>=3.2 in /Users/A118390615/opt/anaconda3/envs/mlflow-bb7872b6fb54fb154dfc004281ace32b7bf42064/lib/python3.10/site-packages (from ydata_profiling) (3.7.3)\n",
      "Requirement already satisfied: pydantic<2,>=1.8.1 in /Users/A118390615/opt/anaconda3/envs/mlflow-bb7872b6fb54fb154dfc004281ace32b7bf42064/lib/python3.10/site-packages (from ydata_profiling) (1.10.14)\n",
      "Requirement already satisfied: PyYAML<6.1,>=5.0.0 in /Users/A118390615/opt/anaconda3/envs/mlflow-bb7872b6fb54fb154dfc004281ace32b7bf42064/lib/python3.10/site-packages (from ydata_profiling) (6.0.1)\n",
      "Requirement already satisfied: jinja2<3.2,>=2.11.1 in /Users/A118390615/opt/anaconda3/envs/mlflow-bb7872b6fb54fb154dfc004281ace32b7bf42064/lib/python3.10/site-packages (from ydata_profiling) (3.1.3)\n",
      "Requirement already satisfied: visions==0.7.5 in /Users/A118390615/opt/anaconda3/envs/mlflow-bb7872b6fb54fb154dfc004281ace32b7bf42064/lib/python3.10/site-packages (from visions[type_image_path]==0.7.5->ydata_profiling) (0.7.5)\n",
      "Requirement already satisfied: numpy<1.26,>=1.16.0 in /Users/A118390615/opt/anaconda3/envs/mlflow-bb7872b6fb54fb154dfc004281ace32b7bf42064/lib/python3.10/site-packages (from ydata_profiling) (1.25.2)\n",
      "Requirement already satisfied: htmlmin==0.1.12 in /Users/A118390615/opt/anaconda3/envs/mlflow-bb7872b6fb54fb154dfc004281ace32b7bf42064/lib/python3.10/site-packages (from ydata_profiling) (0.1.12)\n",
      "Requirement already satisfied: phik<0.13,>=0.11.1 in /Users/A118390615/opt/anaconda3/envs/mlflow-bb7872b6fb54fb154dfc004281ace32b7bf42064/lib/python3.10/site-packages (from ydata_profiling) (0.12.4)\n",
      "Requirement already satisfied: requests<3,>=2.24.0 in /Users/A118390615/opt/anaconda3/envs/mlflow-bb7872b6fb54fb154dfc004281ace32b7bf42064/lib/python3.10/site-packages (from ydata_profiling) (2.31.0)\n",
      "Requirement already satisfied: tqdm<5,>=4.48.2 in /Users/A118390615/opt/anaconda3/envs/mlflow-bb7872b6fb54fb154dfc004281ace32b7bf42064/lib/python3.10/site-packages (from ydata_profiling) (4.66.2)\n",
      "Requirement already satisfied: seaborn<0.13,>=0.10.1 in /Users/A118390615/opt/anaconda3/envs/mlflow-bb7872b6fb54fb154dfc004281ace32b7bf42064/lib/python3.10/site-packages (from ydata_profiling) (0.12.2)\n",
      "Requirement already satisfied: multimethod<2,>=1.4 in /Users/A118390615/opt/anaconda3/envs/mlflow-bb7872b6fb54fb154dfc004281ace32b7bf42064/lib/python3.10/site-packages (from ydata_profiling) (1.11.2)\n",
      "Requirement already satisfied: statsmodels<1,>=0.13.2 in /Users/A118390615/opt/anaconda3/envs/mlflow-bb7872b6fb54fb154dfc004281ace32b7bf42064/lib/python3.10/site-packages (from ydata_profiling) (0.14.1)\n",
      "Requirement already satisfied: typeguard<5,>=4.1.2 in /Users/A118390615/opt/anaconda3/envs/mlflow-bb7872b6fb54fb154dfc004281ace32b7bf42064/lib/python3.10/site-packages (from ydata_profiling) (4.2.1)\n",
      "Requirement already satisfied: imagehash==4.3.1 in /Users/A118390615/opt/anaconda3/envs/mlflow-bb7872b6fb54fb154dfc004281ace32b7bf42064/lib/python3.10/site-packages (from ydata_profiling) (4.3.1)\n",
      "Requirement already satisfied: wordcloud>=1.9.1 in /Users/A118390615/opt/anaconda3/envs/mlflow-bb7872b6fb54fb154dfc004281ace32b7bf42064/lib/python3.10/site-packages (from ydata_profiling) (1.9.3)\n",
      "Requirement already satisfied: dacite>=1.8 in /Users/A118390615/opt/anaconda3/envs/mlflow-bb7872b6fb54fb154dfc004281ace32b7bf42064/lib/python3.10/site-packages (from ydata_profiling) (1.8.1)\n",
      "Requirement already satisfied: numba<0.59.0,>=0.56.0 in /Users/A118390615/opt/anaconda3/envs/mlflow-bb7872b6fb54fb154dfc004281ace32b7bf42064/lib/python3.10/site-packages (from ydata_profiling) (0.58.1)\n",
      "Requirement already satisfied: PyWavelets in /Users/A118390615/opt/anaconda3/envs/mlflow-bb7872b6fb54fb154dfc004281ace32b7bf42064/lib/python3.10/site-packages (from imagehash==4.3.1->ydata_profiling) (1.5.0)\n",
      "Requirement already satisfied: pillow in /Users/A118390615/opt/anaconda3/envs/mlflow-bb7872b6fb54fb154dfc004281ace32b7bf42064/lib/python3.10/site-packages (from imagehash==4.3.1->ydata_profiling) (10.2.0)\n",
      "Requirement already satisfied: attrs>=19.3.0 in /Users/A118390615/opt/anaconda3/envs/mlflow-bb7872b6fb54fb154dfc004281ace32b7bf42064/lib/python3.10/site-packages (from visions==0.7.5->visions[type_image_path]==0.7.5->ydata_profiling) (23.2.0)\n",
      "Requirement already satisfied: networkx>=2.4 in /Users/A118390615/opt/anaconda3/envs/mlflow-bb7872b6fb54fb154dfc004281ace32b7bf42064/lib/python3.10/site-packages (from visions==0.7.5->visions[type_image_path]==0.7.5->ydata_profiling) (3.2.1)\n",
      "Requirement already satisfied: tangled-up-in-unicode>=0.0.4 in /Users/A118390615/opt/anaconda3/envs/mlflow-bb7872b6fb54fb154dfc004281ace32b7bf42064/lib/python3.10/site-packages (from visions==0.7.5->visions[type_image_path]==0.7.5->ydata_profiling) (0.2.0)\n",
      "\u001b[33mWARNING: visions 0.7.5 does not provide the extra 'type-image-path'\u001b[0m\u001b[33m\n",
      "\u001b[0mRequirement already satisfied: MarkupSafe>=2.0 in /Users/A118390615/opt/anaconda3/envs/mlflow-bb7872b6fb54fb154dfc004281ace32b7bf42064/lib/python3.10/site-packages (from jinja2<3.2,>=2.11.1->ydata_profiling) (2.1.5)\n",
      "Requirement already satisfied: contourpy>=1.0.1 in /Users/A118390615/opt/anaconda3/envs/mlflow-bb7872b6fb54fb154dfc004281ace32b7bf42064/lib/python3.10/site-packages (from matplotlib<=3.7.3,>=3.2->ydata_profiling) (1.2.0)\n",
      "Requirement already satisfied: cycler>=0.10 in /Users/A118390615/opt/anaconda3/envs/mlflow-bb7872b6fb54fb154dfc004281ace32b7bf42064/lib/python3.10/site-packages (from matplotlib<=3.7.3,>=3.2->ydata_profiling) (0.12.1)\n",
      "Requirement already satisfied: fonttools>=4.22.0 in /Users/A118390615/opt/anaconda3/envs/mlflow-bb7872b6fb54fb154dfc004281ace32b7bf42064/lib/python3.10/site-packages (from matplotlib<=3.7.3,>=3.2->ydata_profiling) (4.50.0)\n",
      "Requirement already satisfied: kiwisolver>=1.0.1 in /Users/A118390615/opt/anaconda3/envs/mlflow-bb7872b6fb54fb154dfc004281ace32b7bf42064/lib/python3.10/site-packages (from matplotlib<=3.7.3,>=3.2->ydata_profiling) (1.4.5)\n",
      "Requirement already satisfied: packaging>=20.0 in /Users/A118390615/opt/anaconda3/envs/mlflow-bb7872b6fb54fb154dfc004281ace32b7bf42064/lib/python3.10/site-packages (from matplotlib<=3.7.3,>=3.2->ydata_profiling) (23.2)\n",
      "Requirement already satisfied: pyparsing>=2.3.1 in /Users/A118390615/opt/anaconda3/envs/mlflow-bb7872b6fb54fb154dfc004281ace32b7bf42064/lib/python3.10/site-packages (from matplotlib<=3.7.3,>=3.2->ydata_profiling) (3.1.2)\n",
      "Requirement already satisfied: python-dateutil>=2.7 in /Users/A118390615/opt/anaconda3/envs/mlflow-bb7872b6fb54fb154dfc004281ace32b7bf42064/lib/python3.10/site-packages (from matplotlib<=3.7.3,>=3.2->ydata_profiling) (2.9.0)\n",
      "Requirement already satisfied: llvmlite<0.42,>=0.41.0dev0 in /Users/A118390615/opt/anaconda3/envs/mlflow-bb7872b6fb54fb154dfc004281ace32b7bf42064/lib/python3.10/site-packages (from numba<0.59.0,>=0.56.0->ydata_profiling) (0.41.1)\n",
      "Requirement already satisfied: pytz>=2020.1 in /Users/A118390615/opt/anaconda3/envs/mlflow-bb7872b6fb54fb154dfc004281ace32b7bf42064/lib/python3.10/site-packages (from pandas!=1.4.0,<2.1,>1.1->ydata_profiling) (2023.4)\n",
      "Requirement already satisfied: tzdata>=2022.1 in /Users/A118390615/opt/anaconda3/envs/mlflow-bb7872b6fb54fb154dfc004281ace32b7bf42064/lib/python3.10/site-packages (from pandas!=1.4.0,<2.1,>1.1->ydata_profiling) (2024.1)\n",
      "Requirement already satisfied: joblib>=0.14.1 in /Users/A118390615/opt/anaconda3/envs/mlflow-bb7872b6fb54fb154dfc004281ace32b7bf42064/lib/python3.10/site-packages (from phik<0.13,>=0.11.1->ydata_profiling) (1.3.2)\n",
      "Requirement already satisfied: typing-extensions>=4.2.0 in /Users/A118390615/opt/anaconda3/envs/mlflow-bb7872b6fb54fb154dfc004281ace32b7bf42064/lib/python3.10/site-packages (from pydantic<2,>=1.8.1->ydata_profiling) (4.10.0)\n",
      "Requirement already satisfied: charset-normalizer<4,>=2 in /Users/A118390615/opt/anaconda3/envs/mlflow-bb7872b6fb54fb154dfc004281ace32b7bf42064/lib/python3.10/site-packages (from requests<3,>=2.24.0->ydata_profiling) (3.3.2)\n",
      "Requirement already satisfied: idna<4,>=2.5 in /Users/A118390615/opt/anaconda3/envs/mlflow-bb7872b6fb54fb154dfc004281ace32b7bf42064/lib/python3.10/site-packages (from requests<3,>=2.24.0->ydata_profiling) (3.6)\n",
      "Requirement already satisfied: urllib3<3,>=1.21.1 in /Users/A118390615/opt/anaconda3/envs/mlflow-bb7872b6fb54fb154dfc004281ace32b7bf42064/lib/python3.10/site-packages (from requests<3,>=2.24.0->ydata_profiling) (2.2.1)\n",
      "Requirement already satisfied: certifi>=2017.4.17 in /Users/A118390615/opt/anaconda3/envs/mlflow-bb7872b6fb54fb154dfc004281ace32b7bf42064/lib/python3.10/site-packages (from requests<3,>=2.24.0->ydata_profiling) (2024.2.2)\n",
      "Requirement already satisfied: patsy>=0.5.4 in /Users/A118390615/opt/anaconda3/envs/mlflow-bb7872b6fb54fb154dfc004281ace32b7bf42064/lib/python3.10/site-packages (from statsmodels<1,>=0.13.2->ydata_profiling) (0.5.6)\n",
      "Requirement already satisfied: six in /Users/A118390615/opt/anaconda3/envs/mlflow-bb7872b6fb54fb154dfc004281ace32b7bf42064/lib/python3.10/site-packages (from patsy>=0.5.4->statsmodels<1,>=0.13.2->ydata_profiling) (1.16.0)\n"
     ]
    }
   ],
   "source": [
    "!pip install ydata_profiling"
   ]
  },
  {
   "cell_type": "code",
   "execution_count": null,
   "id": "af5a2a42-2ecb-404f-b18d-3943b4617a32",
   "metadata": {},
   "outputs": [],
   "source": []
  }
 ],
 "metadata": {
  "kernelspec": {
   "display_name": "Python 3 (ipykernel)",
   "language": "python",
   "name": "python3"
  },
  "language_info": {
   "codemirror_mode": {
    "name": "ipython",
    "version": 3
   },
   "file_extension": ".py",
   "mimetype": "text/x-python",
   "name": "python",
   "nbconvert_exporter": "python",
   "pygments_lexer": "ipython3",
   "version": "3.10.14"
  }
 },
 "nbformat": 4,
 "nbformat_minor": 5
}
